{
 "cells": [
  {
   "cell_type": "markdown",
   "metadata": {},
   "source": [
    "## Setup Enviroment"
   ]
  },
  {
   "cell_type": "code",
   "execution_count": 1,
   "metadata": {},
   "outputs": [],
   "source": [
    "import os\n",
    "import numpy as np\n",
    "import matplotlib.pyplot as plt\n",
    "%matplotlib inline\n",
    "\n",
    "from skimage import io\n",
    "from sklearn.cluster import MiniBatchKMeans\n",
    "\n",
    "# To make the notebook more interactive\n",
    "from ipywidgets import interact, IntSlider\n",
    "\n",
    "plt.rcParams['figure.figsize'] = (20, 12)"
   ]
  },
  {
   "cell_type": "code",
   "execution_count": 2,
   "metadata": {},
   "outputs": [
    {
     "data": {
      "application/vnd.jupyter.widget-view+json": {
       "model_id": "d38aa1fb8faf491988f3f70b61415c93",
       "version_major": 2,
       "version_minor": 0
      },
      "text/plain": [
       "interactive(children=(Dropdown(description='image', options=('IMG_20190921_162106.jpg', 'Compressed'), value='…"
      ]
     },
     "metadata": {},
     "output_type": "display_data"
    }
   ],
   "source": [
    "@interact\n",
    "def color_compression(image=os.listdir('./Images'), k=IntSlider(min=2, max=256, step=1, \n",
    "                                                                value=64, continious_update=False,\n",
    "                                                                layout=dict(width='100%'))):\n",
    "    img_path = './Images/' + image\n",
    "    img = io.imread(img_path)\n",
    "    img_data = (img / 255.0).reshape(-1, 3)\n",
    "    \n",
    "    kmeans = MiniBatchKMeans(n_clusters=k, batch_size=1000).fit(img_data)\n",
    "    k_colors = kmeans.cluster_centers_[kmeans.predict(img_data)]\n",
    "    \n",
    "    compressed_img = k_colors.reshape(img.shape)\n",
    "    compressed_img_path = './Images/Compressed/' + image + '/' + str(k) + '_colors' + '.jpg'\n",
    "    \n",
    "    # Check whether the needed directories\n",
    "    # exit or not. If not make them\n",
    "    if not os.path.isdir('./Images/Compressed'):\n",
    "        os.mkdir('./Images/Compressed')\n",
    "    if not os.path.isdir('./Images/Compressed/' + image):\n",
    "        os.mkdir('./Images/Compressed/' + image)\n",
    "    io.imsave(fname=compressed_img_path, arr=compressed_img)\n",
    "    \n",
    "    fig, (ax1, ax2) = plt.subplots(nrows=1, ncols=2)\n",
    "    \n",
    "    # Subplot which is illustrating compressed image\n",
    "    ax1.set_title('Compressed to ' + str(k) + ' colors\\n' + 'Size: ' + str(os.stat(compressed_img_path).st_size / 1000.0) + ' KB', fontsize=15)\n",
    "    ax1.set_xticks([])\n",
    "    ax1.set_yticks([])\n",
    "    ax1.imshow(compressed_img)\n",
    "    \n",
    "    # Subplot which is illustrating original image\n",
    "    ax2.set_title('Original\\n' + 'Size: ' + str(os.stat(img_path).st_size / 1000.0) + ' KB', fontsize=15)\n",
    "    ax2.set_xticks([])\n",
    "    ax2.set_yticks([])\n",
    "    ax2.imshow(img)\n",
    "    \n",
    "    plt.subplots_adjust(top=.8)\n",
    "    plt.show()"
   ]
  },
  {
   "cell_type": "code",
   "execution_count": null,
   "metadata": {},
   "outputs": [],
   "source": []
  }
 ],
 "metadata": {
  "kernelspec": {
   "display_name": "Python 3",
   "language": "python",
   "name": "python3"
  },
  "language_info": {
   "codemirror_mode": {
    "name": "ipython",
    "version": 3
   },
   "file_extension": ".py",
   "mimetype": "text/x-python",
   "name": "python",
   "nbconvert_exporter": "python",
   "pygments_lexer": "ipython3",
   "version": "3.7.6"
  }
 },
 "nbformat": 4,
 "nbformat_minor": 4
}
