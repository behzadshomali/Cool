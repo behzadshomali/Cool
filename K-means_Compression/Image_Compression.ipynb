{
 "cells": [
  {
   "cell_type": "markdown",
   "metadata": {},
   "source": [
    "## Set up environment"
   ]
  },
  {
   "cell_type": "code",
   "execution_count": 1,
   "metadata": {},
   "outputs": [],
   "source": [
    "from __future__ import print_function\n",
    "%matplotlib inline\n",
    "import os\n",
    "import numpy as np\n",
    "import matplotlib.pyplot as plt\n",
    "import matplotlib.image as image\n",
    "# plt.style.use('ggplot')\n",
    "\n",
    "from skimage import io\n",
    "from sklearn.cluster import KMeans\n",
    "\n",
    "from ipywidgets import interact, interactive, fixed, interact_manual, IntSlider\n",
    "import ipywidgets as widgets\n",
    "\n",
    "plt.rcParams['figure.figsize'] = (20, 12)"
   ]
  },
  {
   "cell_type": "markdown",
   "metadata": {},
   "source": [
    "## Data preprocessing"
   ]
  },
  {
   "cell_type": "raw",
   "metadata": {},
   "source": [
    "img = io.imread('./Images/20200306_160342.jpg')"
   ]
  },
  {
   "cell_type": "raw",
   "metadata": {},
   "source": [
    "ax = plt.axes(xticks=[], yticks=[])\n",
    "ax.imshow(img);\n",
    "# we just added that ';' to prevent printing: <matplotlib.image.AxesImage at 0x7f991fd1d950>"
   ]
  },
  {
   "cell_type": "raw",
   "metadata": {},
   "source": [
    "img.shape"
   ]
  },
  {
   "cell_type": "markdown",
   "metadata": {},
   "source": [
    "#### Normalize the pixels values"
   ]
  },
  {
   "cell_type": "raw",
   "metadata": {},
   "source": [
    "img_data = (img / 255.0)"
   ]
  },
  {
   "cell_type": "markdown",
   "metadata": {},
   "source": [
    "#### We are splitting the image into 3 long vectors in a way that each vector belongs to one chanell (R,G,B)"
   ]
  },
  {
   "cell_type": "raw",
   "metadata": {},
   "source": [
    "img_data = img_data.reshape(-1, 3)"
   ]
  },
  {
   "cell_type": "markdown",
   "metadata": {},
   "source": [
    "#### As we can see below, the length of each vector is equiavalent to number of pixels of input image"
   ]
  },
  {
   "cell_type": "raw",
   "metadata": {},
   "source": [
    "img_data.shape"
   ]
  },
  {
   "cell_type": "markdown",
   "metadata": {},
   "source": [
    "## Visualizing the color space using Point Clouds"
   ]
  },
  {
   "cell_type": "raw",
   "metadata": {},
   "source": [
    "import seaborn as sns"
   ]
  },
  {
   "cell_type": "raw",
   "metadata": {
    "scrolled": true
   },
   "source": [
    "sns.heatmap(img_data[:100])"
   ]
  },
  {
   "cell_type": "code",
   "execution_count": 2,
   "metadata": {},
   "outputs": [],
   "source": [
    "from sklearn.cluster import MiniBatchKMeans"
   ]
  },
  {
   "cell_type": "raw",
   "metadata": {},
   "source": [
    "kmeans = MiniBatchKMeans(8).fit(img_data)\n",
    "k_colors = kmeans.cluster_centers_[kmeans.predict(img_data)]"
   ]
  },
  {
   "cell_type": "raw",
   "metadata": {},
   "source": [
    "sns.heatmap(k_colors[:100])"
   ]
  },
  {
   "cell_type": "raw",
   "metadata": {},
   "source": [
    "k_colors.shape"
   ]
  },
  {
   "cell_type": "raw",
   "metadata": {},
   "source": [
    "x = k_colors.reshape(3456, 4608, 3)"
   ]
  },
  {
   "cell_type": "raw",
   "metadata": {},
   "source": [
    "io.imshow(x)"
   ]
  },
  {
   "cell_type": "markdown",
   "metadata": {},
   "source": [
    "## Interactive Controls"
   ]
  },
  {
   "cell_type": "code",
   "execution_count": 27,
   "metadata": {
    "scrolled": false
   },
   "outputs": [
    {
     "data": {
      "application/vnd.jupyter.widget-view+json": {
       "model_id": "70dbba5928514dd7ac89ad6e30625d49",
       "version_major": 2,
       "version_minor": 0
      },
      "text/plain": [
       "interactive(children=(Dropdown(description='image', options=('IMG_20190921_162106.jpg', 'DSC_0003.jpg', 'Compr…"
      ]
     },
     "metadata": {},
     "output_type": "display_data"
    }
   ],
   "source": [
    "@interact\n",
    "def color_compression(image=os.listdir('./Images'), k=IntSlider(min=2, max=256, step=1, \n",
    "                                                                value=64, continious_update=False,\n",
    "                                                                layout=dict(width='100%'))):\n",
    "    img = io.imread('./Images/'+image)\n",
    "    img_data = (img / 255.0).reshape(-1, 3)\n",
    "    \n",
    "    kmeans = MiniBatchKMeans(n_clusters=k, batch_size=1000).fit(img_data)\n",
    "    k_colors = kmeans.cluster_centers_[kmeans.predict(img_data)]\n",
    "    \n",
    "    compressed_img = k_colors.reshape(img.shape)\n",
    "    \n",
    "    fig, (ax1, ax2) = plt.subplots(nrows=1, ncols=2)\n",
    "    \n",
    "    ax1.set_title('Compressed ' + str(k) + ' colors')\n",
    "    ax1.set_xticks([])\n",
    "    ax1.set_yticks([])\n",
    "    ax1.imshow(compressed_img)\n",
    "    \n",
    "    ax2.set_title('Original')\n",
    "    ax2.set_xticks([])\n",
    "    ax2.set_yticks([])\n",
    "    ax2.imshow(img)\n",
    "    \n",
    "    if not os.path.isdir('./Images/Compressed'):\n",
    "        os.mkdir('./Images/Compressed')\n",
    "    if not os.path.isdir('./Images/Compressed/' + image):\n",
    "        os.mkdir('./Images/Compressed/' + image)\n",
    "    io.imsave(fname=('./Images/Compressed/'+image+'/'+str(k)+'_colors'+'.jpg'), arr=compressed_img)\n",
    "    plt.subplots_adjust(top=.8)\n",
    "    plt.show()"
   ]
  }
 ],
 "metadata": {
  "kernelspec": {
   "display_name": "Python 3",
   "language": "python",
   "name": "python3"
  },
  "language_info": {
   "codemirror_mode": {
    "name": "ipython",
    "version": 3
   },
   "file_extension": ".py",
   "mimetype": "text/x-python",
   "name": "python",
   "nbconvert_exporter": "python",
   "pygments_lexer": "ipython3",
   "version": "3.7.6"
  }
 },
 "nbformat": 4,
 "nbformat_minor": 4
}
